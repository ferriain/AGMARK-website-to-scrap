{
 "cells": [
  {
   "cell_type": "markdown",
   "id": "cc9ecfeb",
   "metadata": {},
   "source": [
    "# Agmark Website to Scrape"
   ]
  },
  {
   "cell_type": "markdown",
   "id": "07f16aa8",
   "metadata": {},
   "source": [
    "# Project Outline:\n",
    "\n",
    "-Let's scrape https://agmarknet.gov.in/SearchCmmMkt.aspx?Tx_Commodity=78&Tx_State=MH&Tx_District=14&Tx_Market=2495&DateFrom=20-Oct-2021&DateTo=21-Oct-2021&Fr_Date=20-Oct-2021&To_Date=21-Oct-2021&Tx_Trend=0&Tx_CommodityHead=Tomato&Tx_StateHead=Maharashtra&Tx_DistrictHead=Pune&Tx_MarketHead=Pune(Khadiki)\n",
    "\n",
    "-This site contains different Market related information\n",
    "Price related information,Infrastructure ,Market related information\n",
    "\n",
    "-The assignment is to find out how much the commodity tomato costs in each market in the Pune district of Maharashtra and scrape the website's price table.\n",
    "\n",
    "-Last, not least csv fle will be created after gaining some grasp of the details in the following format:\n",
    "\n",
    "\n",
    "\n",
    "'''\n",
    "Sl no.,District Name,Market Name,Commodity,Variety,Grade,Min Price (Rs./Quintal),Max Price (Rs./Quintal),ModalPrice (Rs./Quintal),Price Date\n",
    "\n",
    "Pune, Pune(Khadiki),Tomato,Local,FAQ,1300, 2900, 1800,21 Oct 2021\n",
    "'''"
   ]
  },
  {
   "cell_type": "markdown",
   "id": "1d4eed83",
   "metadata": {},
   "source": [
    "## Download Web pages using the requests library"
   ]
  },
  {
   "cell_type": "code",
   "execution_count": 32,
   "id": "8fcf39ab",
   "metadata": {},
   "outputs": [],
   "source": [
    "import csv\n",
    "import requests\n",
    "from bs4 import BeautifulSoup"
   ]
  },
  {
   "cell_type": "code",
   "execution_count": 33,
   "id": "5b37841b",
   "metadata": {},
   "outputs": [],
   "source": [
    "url = requests.get('https://agmarknet.gov.in/SearchCmmMkt.aspx?Tx_Commodity=78&Tx_State=MH&Tx_District=14&Tx_Market=2495&DateFrom=20-Oct-2021&DateTo=21-Oct-2021&Fr_Date=20-Oct-2021&To_Date=21-Oct-2021&Tx_Trend=0&Tx_CommodityHead=Tomato&Tx_StateHead=Maharashtra&Tx_DistrictHead=Pune&Tx_MarketHead=Pune(Khadiki')"
   ]
  },
  {
   "cell_type": "code",
   "execution_count": 34,
   "id": "53ced276",
   "metadata": {},
   "outputs": [],
   "source": [
    "# Creating soup object\n",
    "soup = BeautifulSoup(url.text,'html.parser')"
   ]
  },
  {
   "cell_type": "code",
   "execution_count": 35,
   "id": "b1baac98",
   "metadata": {},
   "outputs": [
    {
     "data": {
      "text/plain": [
       "'\\n\\nSl no.District NameMarket NameCommodityVarietyGradeMin Price (Rs./Quintal)Max Price (Rs./Quintal)Modal Price (Rs./Quintal)Price Date\\n\\n\\r\\n                                                1\\r\\n                                            \\nPune\\n\\nPune(Khadiki)\\n\\nTomato\\n\\nLocal\\n\\nFAQ\\n\\n1300\\n\\n2900\\n\\n1800\\n\\n21 Oct 2021\\n\\n\\n\\r\\n                                                2\\r\\n                                            \\nPune\\n\\nPune(Khadiki)\\n\\nTomato\\n\\nLocal\\n\\nFAQ\\n\\n1500\\n\\n3000\\n\\n2250\\n\\n20 Oct 2021\\n\\n\\n'"
      ]
     },
     "execution_count": 35,
     "metadata": {},
     "output_type": "execute_result"
    }
   ],
   "source": [
    "Market_tab = soup.find('table', class_ ='tableagmark_new')\n",
    "Market_tab.text"
   ]
  },
  {
   "cell_type": "code",
   "execution_count": 36,
   "id": "13370ccc",
   "metadata": {},
   "outputs": [
    {
     "data": {
      "text/plain": [
       "['Sl no.',\n",
       " 'District Name',\n",
       " 'Market Name',\n",
       " 'Commodity',\n",
       " 'Variety',\n",
       " 'Grade',\n",
       " 'Min Price (Rs./Quintal)',\n",
       " 'Max Price (Rs./Quintal)',\n",
       " 'Modal Price (Rs./Quintal)',\n",
       " 'Price Date']"
      ]
     },
     "execution_count": 36,
     "metadata": {},
     "output_type": "execute_result"
    }
   ],
   "source": [
    "# List to access all heads/column \n",
    "\n",
    "DATA = []\n",
    "\n",
    "# Searching table tags having class\n",
    "soup = BeautifulSoup(url.text,'html.parser')\n",
    "Market  = soup.find('table' , class_='tableagmark_new')\n",
    "for data in Market.find_all('tr'):\n",
    "    for value in data.find_all('th'):\n",
    "        DATA.append(value.text)\n",
    "DATA"
   ]
  },
  {
   "cell_type": "code",
   "execution_count": 37,
   "id": "48cd2a39",
   "metadata": {},
   "outputs": [
    {
     "data": {
      "text/plain": [
       "['\\r\\n                                                1\\r\\n                                            ',\n",
       " '\\nPune\\n',\n",
       " '\\nPune(Khadiki)\\n',\n",
       " '\\nTomato\\n',\n",
       " '\\nLocal\\n',\n",
       " '\\nFAQ\\n',\n",
       " '\\n1300\\n',\n",
       " '\\n2900\\n',\n",
       " '\\n1800\\n',\n",
       " '\\n21 Oct 2021\\n',\n",
       " '\\r\\n                                                2\\r\\n                                            ',\n",
       " '\\nPune\\n',\n",
       " '\\nPune(Khadiki)\\n',\n",
       " '\\nTomato\\n',\n",
       " '\\nLocal\\n',\n",
       " '\\nFAQ\\n',\n",
       " '\\n1500\\n',\n",
       " '\\n3000\\n',\n",
       " '\\n2250\\n',\n",
       " '\\n20 Oct 2021\\n']"
      ]
     },
     "execution_count": 37,
     "metadata": {},
     "output_type": "execute_result"
    }
   ],
   "source": [
    "value =[]\n",
    "\n",
    "soup = BeautifulSoup(url.text,'html.parser')\n",
    "Market_tab  = soup.find('table' , class_='tableagmark_new')\n",
    "for val in Market_tab.find_all('tr'):\n",
    "    for d in val.find_all('td'):\n",
    "        value.append(d.text)\n",
    "\n",
    "        \n",
    "        \n",
    "value"
   ]
  },
  {
   "cell_type": "code",
   "execution_count": 41,
   "id": "71e56e87",
   "metadata": {},
   "outputs": [
    {
     "data": {
      "text/plain": [
       "[['1',\n",
       "  'Pune',\n",
       "  'Pune(Khadiki)',\n",
       "  'Tomato',\n",
       "  'Local',\n",
       "  'FAQ',\n",
       "  '1300',\n",
       "  '2900',\n",
       "  '1800',\n",
       "  '21 Oct 2021',\n",
       "  '2',\n",
       "  'Pune',\n",
       "  'Pune(Khadiki)',\n",
       "  'Tomato',\n",
       "  'Local',\n",
       "  'FAQ',\n",
       "  '1500',\n",
       "  '3000',\n",
       "  '2250',\n",
       "  '20 Oct 2021']]"
      ]
     },
     "execution_count": 41,
     "metadata": {},
     "output_type": "execute_result"
    }
   ],
   "source": [
    "#Remove trailing / leading special characters from strings list\n",
    "# Using map() + str.strip()\n",
    "\n",
    "body_data =[]\n",
    "col= list(map(str.strip,value))\n",
    "body_data.append(col)\n",
    "\n",
    "body_data"
   ]
  },
  {
   "cell_type": "code",
   "execution_count": 51,
   "id": "79e6d217",
   "metadata": {},
   "outputs": [],
   "source": [
    "with open('md.csv','w',newline='') as csvfile:\n",
    "    writer = csv.writer(csvfile)\n",
    "    writer.writerow (DATA)\n",
    "\n",
    "with open('md.csv','a') as csvfile:\n",
    "         writer = csv.writer(csvfile)\n",
    "         writer.writerows(body_data)"
   ]
  }
 ],
 "metadata": {
  "kernelspec": {
   "display_name": "Python 3 (ipykernel)",
   "language": "python",
   "name": "python3"
  },
  "language_info": {
   "codemirror_mode": {
    "name": "ipython",
    "version": 3
   },
   "file_extension": ".py",
   "mimetype": "text/x-python",
   "name": "python",
   "nbconvert_exporter": "python",
   "pygments_lexer": "ipython3",
   "version": "3.10.7"
  }
 },
 "nbformat": 4,
 "nbformat_minor": 5
}
